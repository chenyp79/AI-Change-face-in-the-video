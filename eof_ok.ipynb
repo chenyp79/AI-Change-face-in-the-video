{
  "nbformat": 4,
  "nbformat_minor": 0,
  "metadata": {
    "colab": {
      "name": "eof-ok.ipynb",
      "private_outputs": true,
      "provenance": [],
      "collapsed_sections": [],
      "authorship_tag": "ABX9TyPIyrUxxlMbJDi2vXDNtzbd",
      "include_colab_link": true
    },
    "kernelspec": {
      "name": "python3",
      "display_name": "Python 3"
    },
    "language_info": {
      "name": "python"
    }
  },
  "cells": [
    {
      "cell_type": "markdown",
      "metadata": {
        "id": "view-in-github",
        "colab_type": "text"
      },
      "source": [
        "<a href=\"https://colab.research.google.com/github/chenyp79/AI-Change-face-in-the-video/blob/master/eof_ok.ipynb\" target=\"_parent\"><img src=\"https://colab.research.google.com/assets/colab-badge.svg\" alt=\"Open In Colab\"/></a>"
      ]
    },
    {
      "cell_type": "code",
      "metadata": {
        "id": "r_kqrnn5n2mu"
      },
      "source": [
        "!apt-get -V -y -qq install python-cartopy python3-cartopy\n",
        "\n",
        "!pip uninstall shapely -y\n",
        "\n",
        "!pip install shapely --no-binary shapely"
      ],
      "execution_count": null,
      "outputs": []
    },
    {
      "cell_type": "code",
      "metadata": {
        "id": "eu_SFYpXwnVV"
      },
      "source": [
        "pip install eofs"
      ],
      "execution_count": null,
      "outputs": []
    },
    {
      "cell_type": "code",
      "metadata": {
        "id": "D8R8c53Mv6kH"
      },
      "source": [
        "import numpy as np\n",
        "import matplotlib.pyplot as plt\n",
        "import cartopy.crs as ccrs\n",
        "import cartopy.feature as cfeature\n",
        "from cartopy.mpl.gridliner import LONGITUDE_FORMATTER, LATITUDE_FORMATTER\n",
        "import cartopy.mpl.ticker as cticker\n",
        "import cartopy.io.shapereader as shpreader\n",
        "import xarray as xr\n",
        "from eofs.standard import Eof\n",
        " "
      ],
      "execution_count": null,
      "outputs": []
    },
    {
      "cell_type": "code",
      "metadata": {
        "id": "1bKFB8UMxr2K"
      },
      "source": [
        "input_folder = \"input_csv\"\n",
        "output_folder = \"output\"\n",
        "import os\n",
        "basepath = os.getcwd()\n",
        "input_path = os.path.join(basepath, input_folder)\n",
        "output_path = os.path.join(basepath, output_folder)\n",
        "os.mkdir(output_path)\n",
        "os.mkdir(input_path)"
      ],
      "execution_count": null,
      "outputs": []
    },
    {
      "cell_type": "code",
      "metadata": {
        "id": "i2Zr8gmrwltJ"
      },
      "source": [
        "from google.colab import files\n",
        "import shutil\n",
        "\n",
        "upload_path = os.path.join(basepath, \"input_csv\")\n",
        "#upload_output_path = os.path.join(basepath, \"upload_output\")\n",
        "\n",
        "#if os.path.isdir(upload_output_path):\n",
        "    #shutil.rmtree(upload_output_path)\n",
        "\n",
        "if os.path.isdir(upload_path):\n",
        "    shutil.rmtree(upload_path)\n",
        "\n",
        "#os.mkdir(upload_output_path)\n",
        "os.mkdir(upload_path)\n",
        "\n",
        "uploaded = files.upload()\n",
        "for filename in uploaded.keys():\n",
        "  #print('您已上传 \"{name}\" 文件，大小为 {length} bytes'.format(\n",
        "  name=filename, length=len(uploaded[filename])))\n",
        "  shutil.move(os.path.join(basepath, filename), os.path.join(upload_path, filename))"
      ],
      "execution_count": null,
      "outputs": []
    },
    {
      "cell_type": "code",
      "metadata": {
        "id": "boqk21UHynJo"
      },
      "source": [
        "#@title **<font color='#FF000'> EOF 文件</font>**\n",
        "pre_filename = \"pre.nc\" #@param {type:\"string\"}\n",
        "dbf_filename = \"bou2_4l.dbf\" #@param {type:\"string\"}\n",
        "shp_filename = \"bou2_4l.shp\" #@param {type:\"string\"}\n",
        "path='/content/input_csv/'\n",
        "pre_data = path+pre_filename\n",
        "dbf_data = path+dbf_filename\n",
        "shp_data = path+shp_filename"
      ],
      "execution_count": null,
      "outputs": []
    },
    {
      "cell_type": "code",
      "metadata": {
        "id": "gV9WVfSKwRwz"
      },
      "source": [
        "#读取数据\n",
        "import netCDF4 as nc\n",
        "f = nc.Dataset(pre_data)#打开文件\n",
        "pre=f.variables['pre'][:] #读取降雨3三维数据值\n",
        "lat=(f.variables['lat'][:])#读取数据值\n",
        "lon=(f.variables['lon'][:])#读取数据值\n",
        "\n",
        "\n",
        "#计算纬度权重\n",
        "#lat = np.array(lat)\n",
        "coslat = np.cos(np.deg2rad(lat))\n",
        "wgts = np.sqrt(coslat)[..., np.newaxis]\n",
        "#创建EOF分解器\n",
        "solver = Eof(pre, weights=wgts)\n",
        "#获取前三个模态，获取对应的PC序列和解释方差\n",
        "eof = solver.eofsAsCorrelation(neofs=3)\n",
        "pc = solver.pcs(npcs=3, pcscaling=1)\n",
        "var = solver.varianceFraction()\n",
        "#方差贡献\n",
        "eigen_Values   = solver.eigenvalues()\n",
        "percentContrib = eigen_Values * 100./np.sum(eigen_Values)\n",
        "print(percentContrib)\n",
        "percentContrib_new=np.round(percentContrib,2)#多维数组保留两位\n",
        "print (percentContrib_new)\n",
        "print('前三个模态的方差贡献分别是:%s,%s,%s'%(round(percentContrib[0],2),round(percentContrib[1],2),round(percentContrib[2],2)))\n",
        "print(eof[0,:,:])\n",
        "print(len(eof[0,:,:]))"
      ],
      "execution_count": null,
      "outputs": []
    },
    {
      "cell_type": "code",
      "metadata": {
        "id": "0LTyXFBn0r_d"
      },
      "source": [
        "print (type(pc))\n",
        "print(pc)\n",
        "print (type(var),'\\n', var)"
      ],
      "execution_count": null,
      "outputs": []
    },
    {
      "cell_type": "code",
      "metadata": {
        "id": "cvAkzYzTwU7-"
      },
      "source": [
        "#绘图设置\n",
        "\n",
        "pre_lon = lon  #  contourf 中的X  经度\n",
        "pre_lat = lat  #  contourf 中的Y  纬度\n",
        "\n",
        "dbf_data\n",
        "color1=[]\n",
        "color2=[]\n",
        "color3=[]\n",
        "for i in range(1961,2017):\n",
        "    if pc[i-1961,0] >=0:\n",
        "        color1.append('red')\n",
        "    elif pc[i-1961,0] <0:\n",
        "        color1.append('blue')\n",
        "    if pc[i-1961,1] >=0:\n",
        "        color2.append('red')\n",
        "    elif pc[i-1961,1] <0:\n",
        "        color2.append('blue')\n",
        "    if pc[i-1961,2] >=0:\n",
        "        color3.append('red')\n",
        "    elif pc[i-1961,2] <0:\n",
        "        color3.append('blue')\n",
        "fig = plt.figure(figsize=(15,15))\n",
        "proj = ccrs.PlateCarree(central_longitude=115)\n",
        "leftlon, rightlon, lowerlat, upperlat = (70,140,15,55)\n",
        "lon_formatter = cticker.LongitudeFormatter()\n",
        "lat_formatter = cticker.LatitudeFormatter()\n",
        "\n",
        "\n",
        "fig_ax1 = fig.add_axes([0.1, 0.8, 0.5, 0.3],projection = proj)\n",
        "fig_ax1.set_extent([leftlon, rightlon, lowerlat, upperlat], crs=ccrs.PlateCarree())\n",
        "fig_ax1.add_feature(cfeature.COASTLINE.with_scale('50m'))\n",
        "fig_ax1.add_feature(cfeature.LAKES, alpha=0.5)\n",
        "fig_ax1.set_xticks(np.arange(leftlon,rightlon+10,10), crs=ccrs.PlateCarree())\n",
        "fig_ax1.set_yticks(np.arange(lowerlat,upperlat+10,10), crs=ccrs.PlateCarree())\n",
        "fig_ax1.xaxis.set_major_formatter(lon_formatter)\n",
        "fig_ax1.yaxis.set_major_formatter(lat_formatter)\n",
        "china = shpreader.Reader(shp_data).geometries()\n",
        "fig_ax1.add_geometries(china, ccrs.PlateCarree(),facecolor='none', edgecolor='black',zorder = 1)\n",
        "fig_ax1.set_title('(a) EOF1',loc='left',fontsize =15)\n",
        "fig_ax1.set_title( '%.2f%%' % (var[0]*100),loc='right',fontsize =15)\n",
        "c1=fig_ax1.contourf(pre_lon, pre_lat, eof[0,:,:], levels=np.arange(-0.9,1.0,0.1), zorder=0, extend = 'both',transform=ccrs.PlateCarree(), cmap=plt.cm.RdBu_r)\n",
        "\n",
        "\n",
        "fig_ax2 = fig.add_axes([0.1, 0.45, 0.5, 0.3],projection = proj)\n",
        "fig_ax2.set_extent([leftlon, rightlon, lowerlat, upperlat], crs=ccrs.PlateCarree())\n",
        "fig_ax2.add_feature(cfeature.COASTLINE.with_scale('50m'))\n",
        "fig_ax2.add_feature(cfeature.LAKES, alpha=0.5)\n",
        "fig_ax2.set_xticks(np.arange(leftlon,rightlon+10,10), crs=ccrs.PlateCarree())\n",
        "fig_ax2.set_yticks(np.arange(lowerlat,upperlat+10,10), crs=ccrs.PlateCarree())\n",
        "fig_ax2.xaxis.set_major_formatter(lon_formatter)\n",
        "fig_ax2.yaxis.set_major_formatter(lat_formatter)\n",
        "china = shpreader.Reader(shp_data).geometries()\n",
        "fig_ax2.add_geometries(china, ccrs.PlateCarree(),facecolor='none', edgecolor='black',zorder = 1)\n",
        "fig_ax2.set_title('(c) EOF2',loc='left',fontsize =15)\n",
        "fig_ax2.set_title( '%.2f%%' % (var[1]*100),loc='right',fontsize =15)\n",
        "c2=fig_ax2.contourf(pre_lon,pre_lat, eof[1,:,:], levels=np.arange(-0.9,1.0,0.1), zorder=0, extend = 'both',transform=ccrs.PlateCarree(), cmap=plt.cm.RdBu_r)\n",
        "\n",
        "\n",
        "fig_ax3 = fig.add_axes([0.1, 0.1, 0.5, 0.3],projection = proj)\n",
        "fig_ax3.set_extent([leftlon, rightlon, lowerlat, upperlat], crs=ccrs.PlateCarree())\n",
        "fig_ax3.add_feature(cfeature.COASTLINE.with_scale('50m'))\n",
        "fig_ax3.add_feature(cfeature.LAKES, alpha=0.5)\n",
        "fig_ax3.set_xticks(np.arange(leftlon,rightlon+10,10), crs=ccrs.PlateCarree())\n",
        "fig_ax3.set_yticks(np.arange(lowerlat,upperlat+10,10), crs=ccrs.PlateCarree())\n",
        "fig_ax3.xaxis.set_major_formatter(lon_formatter)\n",
        "fig_ax3.yaxis.set_major_formatter(lat_formatter)\n",
        "china = shpreader.Reader(shp_data).geometries()\n",
        "fig_ax3.add_geometries(china, ccrs.PlateCarree(),facecolor='none', edgecolor='black',zorder = 1)\n",
        "fig_ax3.set_title('(e) EOF3',loc='left',fontsize =15)\n",
        "fig_ax3.set_title( '%.2f%%' % (var[2]*100),loc='right',fontsize =15)\n",
        "c3=fig_ax3.contourf(pre_lon,pre_lat, eof[2,:,:], levels=np.arange(-0.9,1.0,0.1), zorder=0, extend = 'both',transform=ccrs.PlateCarree(), cmap=plt.cm.RdBu_r)\n",
        "\n",
        "\n",
        "fig_ax11 = fig.add_axes([0.525, 0.08, 0.072, 0.15],projection = proj)\n",
        "fig_ax11.set_extent([105, 125, 0, 25], crs=ccrs.PlateCarree())\n",
        "fig_ax11.add_feature(cfeature.COASTLINE.with_scale('50m'))\n",
        "china = shpreader.Reader(dbf_data).geometries()\n",
        "fig_ax11.add_geometries(china, ccrs.PlateCarree(),facecolor='none', edgecolor='black',zorder = 1)\n",
        "\n",
        "\n",
        "fig_ax22 = fig.add_axes([0.525, 0.43, 0.072, 0.15],projection = proj)\n",
        "fig_ax22.set_extent([105, 125, 0, 25], crs=ccrs.PlateCarree())\n",
        "fig_ax22.add_feature(cfeature.COASTLINE.with_scale('50m'))\n",
        "china = shpreader.Reader(shp_data).geometries()\n",
        "fig_ax22.add_geometries(china, ccrs.PlateCarree(),facecolor='none', edgecolor='black',zorder = 1)\n",
        "\n",
        "\n",
        "fig_ax33 = fig.add_axes([0.525, 0.78, 0.072, 0.15],projection = proj)\n",
        "fig_ax33.set_extent([105, 125, 0, 25], crs=ccrs.PlateCarree())\n",
        "fig_ax33.add_feature(cfeature.COASTLINE.with_scale('50m'))\n",
        "china = shpreader.Reader(dbf_data).geometries()\n",
        "fig_ax33.add_geometries(china, ccrs.PlateCarree(),facecolor='none', edgecolor='black',zorder = 1)\n",
        "\n",
        "\n",
        "cbposition=fig.add_axes([0.13, 0.04, 0.4, 0.015])\n",
        "fig.colorbar(c1,cax=cbposition,orientation='horizontal',format='%.1f',)\n",
        "\n",
        "\n",
        "fig_ax4 = fig.add_axes([0.65, 0.808, 0.47, 0.285])\n",
        "fig_ax4.set_title('(b) PC1',loc='left',fontsize = 15)\n",
        "fig_ax4.set_ylim(-2.5,2.5)\n",
        "fig_ax4.axhline(0,linestyle=\"--\")\n",
        "fig_ax4.bar(np.arange(1961,2017,1),pc[:,0],color=color1)\n",
        "\n",
        "\n",
        "fig_ax5 = fig.add_axes([0.65, 0.458, 0.47, 0.285])\n",
        "fig_ax5.set_title('(d) PC2',loc='left',fontsize = 15)\n",
        "fig_ax5.set_ylim(-2.5,2.5)\n",
        "fig_ax5.axhline(0,linestyle=\"--\")\n",
        "fig_ax5.bar(np.arange(1961,2017,1),pc[:,1],color=color2)\n",
        "\n",
        "\n",
        "fig_ax6 = fig.add_axes([0.65, 0.108, 0.47, 0.285])\n",
        "fig_ax6.set_title('(f) PC3',loc='left',fontsize = 15)\n",
        "fig_ax6.set_ylim(-2.5,2.5)\n",
        "fig_ax6.axhline(0,linestyle=\"--\")\n",
        "fig_ax6.bar(np.arange(1961,2017,1),pc[:,2],color=color3)\n",
        "\n",
        "\n",
        "plt.show()"
      ],
      "execution_count": null,
      "outputs": []
    }
  ]
}